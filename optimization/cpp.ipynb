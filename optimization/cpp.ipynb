{
 "cells": [
  {
   "cell_type": "code",
   "execution_count": 2,
   "metadata": {},
   "outputs": [
    {
     "name": "stdout",
     "output_type": "stream",
     "text": [
      "Writing helper.cpp\n"
     ]
    }
   ],
   "source": [
    "%%file helper.cpp\n",
    "<%\n",
    "cfg['compiler_args'] = ['-std=c++11']\n",
    "cfg['include_dirs'] = ['eigen']\n",
    "setup_pybind11(cfg)\n",
    "%>\n",
    "\n",
    "#include <pybind11/pybind11.h>\n",
    "#include <pybind11/eigen.h>\n",
    "#include <Eigen/Dense>\n",
    "#include <random>\n",
    "\n",
    "namespace py = pybind11;\n",
    "\n",
    "std::default_random_engine generator;\n",
    "\n",
    "        \n",
    "// apply gradU function in C++\n",
    "\n",
    "Eigen::MatrixXd gradU(Eigen::MatrixXd theta) {\n",
    "    \n",
    "    Eigen::MatrixXd noise = Eigen::MatrixXd::Zero(theta.rows(), 1);\n",
    "    \n",
    "    std::normal_distribution<double> norm(0, 2);\n",
    "    \n",
    "    for (int i = 0; i < theta.rows(); ++i) {\n",
    "        noise(i, 0) = norm(generator);\n",
    "    }\n",
    "    Eigen::MatrixXd res = -4 * theta.array() + 4 * theta.array().pow(3) + noise.array();\n",
    "    return res;\n",
    "} \n",
    "\n",
    "// apply sghmc function in C++\n",
    "\n",
    "Eigen::MatrixXd sghmc(double eps, Eigen::MatrixXd C, Eigen::MatrixXd Mmatrix, Eigen::MatrixXd theta_initial,Eigen::MatrixXd Cov_hat, int epoch_nums, int n_data,int size){\n",
    "    int p = theta_initial.rows();\n",
    "    Eigen::MatrixXd theta_samp = Eigen::MatrixXd::Zero(p, epoch_nums);\n",
    "    theta_samp.col(0) = theta_initial;\n",
    "    \n",
    "    Eigen::MatrixXd B_hat = 0.5 * eps * Cov_hat;\n",
    "    Eigen::MatrixXd A = 2.0 * eps * (C - B_hat);\n",
    "    Eigen::MatrixXd noise_sqrt = A.llt().matrixL();\n",
    "    \n",
    "    Eigen::MatrixXd Minv = Mmatrix.inverse();\n",
    "    Eigen::MatrixXd MLower = Minv.llt().matrixL();\n",
    "    \n",
    "    std::normal_distribution<double> norm(0, 1);\n",
    "    \n",
    "    Eigen::MatrixXd theta;// = theta_initial;\n",
    "    Eigen::MatrixXd r = MLower * norm(generator);\n",
    "    int batch_nums = (int) n_data / size;\n",
    "    \n",
    "    for (int i = 0; i < epoch_nums - 1; i++) {\n",
    "        r = MLower * norm(generator);\n",
    "        theta = theta_samp.col(i);\n",
    "        \n",
    "        for (int j = 0; j < batch_nums; j++){\n",
    "            theta = theta + eps * Mmatrix* r;\n",
    "            r = r - eps * gradU(theta) - eps * (C * Mmatrix * r) + noise_sqrt * norm(generator);\n",
    "        }\n",
    "        theta_samp.col(i) = theta;\n",
    "    }\n",
    "\n",
    "    return theta_samp;\n",
    "}\n",
    "    \n",
    "PYBIND11_MODULE(helper, m) {\n",
    "    m.def(\"sghmc\", &sghmc);\n",
    "}"
   ]
  },
  {
   "cell_type": "code",
   "execution_count": 3,
   "metadata": {},
   "outputs": [],
   "source": [
    "import cppimport\n",
    "cppimport.force_rebuild()\n",
    "cpp = cppimport.imp(\"helper\")"
   ]
  },
  {
   "cell_type": "code",
   "execution_count": 4,
   "metadata": {},
   "outputs": [],
   "source": [
    "import numpy as np\n",
    "\n",
    "Mmatrix = np.eye(1)\n",
    "theta_initial = np.array([0.0])\n",
    "C = np.eye(1)\n",
    "Cov_hat = np.eye(1)*4\n",
    "epoch_nums = 4000\n",
    "n_data = 100\n",
    "eps = 0.1\n",
    "size = 1\n",
    "res = cpp.sghmc(eps, C, Mmatrix, theta_initial, Cov_hat, epoch_nums, n_data, size)\n",
    "\n",
    "burns = 200\n",
    "res = res[:, burns:]"
   ]
  },
  {
   "cell_type": "code",
   "execution_count": 6,
   "metadata": {},
   "outputs": [
    {
     "data": {
      "image/png": "[encoded data removed]",
      "text/plain": [
       "<Figure size 432x288 with 1 Axes>"
      ]
     },
     "metadata": {},
     "output_type": "display_data"
    }
   ],
   "source": [
    "import seaborn as sns\n",
    "plt = sns.kdeplot(res[0,:])\n",
    "fig = plt.get_figure()\n",
    "fig.show()"
   ]
  },
  {
   "cell_type": "code",
   "execution_count": 7,
   "metadata": {},
   "outputs": [
    {
     "name": "stdout",
     "output_type": "stream",
     "text": [
      "316 ms ± 6.25 ms per loop (mean ± std. dev. of 7 runs, 1 loop each)\n"
     ]
    }
   ],
   "source": [
    "%timeit cpp.sghmc(eps, C, Mmatrix, theta_initial, Cov_hat, epoch_nums, n_data, size)"
   ]
  },
  {
   "cell_type": "code",
   "execution_count": null,
   "metadata": {},
   "outputs": [],
   "source": []
  }
 ],
 "metadata": {
  "kernelspec": {
   "display_name": "Python 3",
   "language": "python",
   "name": "python3"
  },
  "language_info": {
   "codemirror_mode": {
    "name": "ipython",
    "version": 3
   },
   "file_extension": ".py",
   "mimetype": "text/x-python",
   "name": "python",
   "nbconvert_exporter": "python",
   "pygments_lexer": "ipython3",
   "version": "3.7.8"
  }
 },
 "nbformat": 4,
 "nbformat_minor": 2
}
