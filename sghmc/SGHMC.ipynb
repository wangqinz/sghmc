{
 "cells": [
  {
   "cell_type": "code",
   "execution_count": 9,
   "metadata": {},
   "outputs": [],
   "source": [
    "import numpy as np\n",
    "import seaborn as sns\n",
    "import matplotlib.pyplot as plt\n",
    "from autograd import jacobian\n",
    "from numba import jit, float64, int64\n",
    "import time\n",
    "import seaborn as sns\n"
   ]
  },
  {
   "cell_type": "code",
   "execution_count": 10,
   "metadata": {},
   "outputs": [],
   "source": [
    "def posi_defnite_check(A):\n",
    "    return np.all(np.linalg.eigvals(A) > 0)"
   ]
  },
  {
   "cell_type": "code",
   "execution_count": 11,
   "metadata": {},
   "outputs": [],
   "source": [
    "def batch_fun(data, size):\n",
    "    n = data.shape[0]\n",
    "    i = np.arange(n)\n",
    "    p = data.shape[1]\n",
    "    \n",
    "    ## make sure the rows can be divided by the input size\n",
    "    if n % size !=0:\n",
    "        print(\"The number of observations of data cannot be divided by the input batch size.\")\n",
    "        print('%d data dropped.' % (n%size))\n",
    "        \n",
    "    sample_size = (n // size) * size\n",
    "        \n",
    "\n",
    "    np.random.shuffle(i)\n",
    "\n",
    "    batch_nums = n//size\n",
    "    data = data[i][:sample_size].reshape(size,p,batch_nums)\n",
    "    return(data, batch_nums)"
   ]
  },
  {
   "cell_type": "code",
   "execution_count": 12,
   "metadata": {},
   "outputs": [],
   "source": [
    "def sghmc(gradU, eps, C, Mmatrix, theta_initial, Cov_hat, epoch_nums, epoch_nums_drop, data, size, seed = 663):\n",
    "    \n",
    "        ## gradU: function(theta, X, y), U gradient\n",
    "        \n",
    "        ## eps: learning rate\n",
    "        \n",
    "        ## C: friction matrix P X P\n",
    "        \n",
    "        ## Mmatrix: Mass matrix P X P\n",
    "        \n",
    "        ## theta_initial: initial value of theta\n",
    "        \n",
    "        ## Cov_hat: estimated covariance matrix of stochastic gradient noise\n",
    "        \n",
    "        ## epoch_nums: number of epochs to perform\n",
    "        \n",
    "        ## epoch_nums_drop: number of epochs to drop\n",
    "        \n",
    "        ## size: minbatch size per iteration\n",
    "        \n",
    "        ## seed: seed\n",
    "    np.random.seed(seed)\n",
    "    n = data.shape[0]\n",
    "    p = theta_initial.shape[0]\n",
    "\n",
    "    theta_samp = np.zeros((p, epoch_nums))\n",
    "    theta_samp[:,0] = theta_initial\n",
    "    \n",
    "    B_hat = 0.5*eps*Cov_hat\n",
    "    \n",
    "    if not posi_defnite_check(2*(C-B_hat)*eps):\n",
    "        print(\"The noise term has to be positive define.\")\n",
    "        return\n",
    "    \n",
    "    noise_sqrt = np.linalg.cholesky(2*(C-B_hat)*eps)\n",
    "    \n",
    "    r = (np.linalg.cholesky(np.linalg.inv(Mmatrix)))@np.random.normal(size = p).reshape(p, -1)\n",
    "    data_batched = batch_fun(data, size)[0]\n",
    "    batch_nums = batch_fun(data, size)[1]\n",
    "    \n",
    "    for i in range(epoch_nums-1):\n",
    "        r = (np.linalg.cholesky(np.linalg.inv(Mmatrix)))@np.random.normal(size = p).reshape(p, -1)\n",
    "        theta = theta_samp[:,i]\n",
    "        \n",
    "        for batch in range(batch_nums):\n",
    "            theta += (eps * Mmatrix @ r).ravel()\n",
    "            gradU_batch = gradU(theta, data_batched[:,:, batch], n, size).reshape(p, -1)\n",
    "            r = r-eps*gradU_batch - eps*C@Mmatrix@r + noise_sqrt@np.random.normal(size = p).reshape(p, -1)\n",
    "        theta_samp[:,i+1] = theta\n",
    "    \n",
    "    return theta_samp[:, epoch_nums_drop:]"
   ]
  },
  {
   "cell_type": "code",
   "execution_count": null,
   "metadata": {},
   "outputs": [],
   "source": []
  }
 ],
 "metadata": {
  "kernelspec": {
   "display_name": "Python 3",
   "language": "python",
   "name": "python3"
  },
  "language_info": {
   "codemirror_mode": {
    "name": "ipython",
    "version": 3
   },
   "file_extension": ".py",
   "mimetype": "text/x-python",
   "name": "python",
   "nbconvert_exporter": "python",
   "pygments_lexer": "ipython3",
   "version": "3.7.8"
  }
 },
 "nbformat": 4,
 "nbformat_minor": 2
}
